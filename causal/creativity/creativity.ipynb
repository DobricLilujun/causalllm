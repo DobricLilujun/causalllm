{
 "cells": [
  {
   "cell_type": "code",
   "execution_count": 1,
   "metadata": {},
   "outputs": [],
   "source": [
    "from datasets import load_dataset\n",
    "\n",
    "dataset = load_dataset(\"Salesforce/ttcw_creativity_eval\")"
   ]
  },
  {
   "cell_type": "code",
   "execution_count": 15,
   "metadata": {},
   "outputs": [
    {
     "name": "stdout",
     "output_type": "stream",
     "text": [
      "[{'story_metadata': {'story_id': '0_NewYorker', 'story_name': 'Maintenance, Hvidovre', 'plot_summary': 'A woman experiences a disorienting night in a maternity ward where she encounters other similarly disoriented new mothers, leading to an uncanny mix-up where she leaves the hospital with a baby that she realizes is not her own, yet accepts the situation with an inexplicable sense of happiness.', 'content': 'https://www.newyorker.com/magazine/2023/05/15/maintenance-hvidovre-fiction-olga-ravn'}}, {'test_metadata': {'ttcw_idx': 1, 'ttcw_dimension': 'Fluency', 'ttcw_category': 'Narrative Ending', 'ttcw_question': 'Does the end of the story feel natural and earned, as opposed to arbitrary or abrupt?', 'ttcw_prompt': \"If the writer ends the piece simply because they are 'tired of writing', the conclusion might feel abrupt, disjointed, or unfulfilling to the reader. It suggests a rushed ending, where plot threads might be left unresolved and character arcs incomplete.\\n\\nConversely, if the writer concludes because they've reached 'the moment the entire piece has been leading readers towards', it implies a well-considered and purposeful ending. The events, character development, and themes throughout the story have built towards this climactic moment, providing a satisfying resolution to the reader.\\n\\nA strong ending offers a sense of closure, ties up the central conflicts or questions of the story, and generally leaves the reader feeling that the narrative journey was worthwhile and complete.\\n\\nGiven the story above, answer the following question. Please first explain your reasoning step by step and then given an answer between 'Yes' or 'No' only\\n\\nQ) Does the end of the story feel natural and earned, as opposed to arbitrary or abrupt?\"}}, {'annotations': [{'expert_idx': 9, 'binary_verdict': 'Yes', 'explanation': 'The ending is abrupt, but its abruptness fits with the clipped language throughout the story. The ending provides a kind of resolution while also leaving the me curious and thinking about the meaning of what I just read.'}, {'expert_idx': 1, 'binary_verdict': 'Yes', 'explanation': 'I think this would not be my ideal ending for the story—I would prefer something even less certain, which exploded an idea of parenthood and which did not return to a kind of reality that a consensus could be built around. However, it is not that sort of story and what is here is earned and expected and does not allow for easy answers. I especially liked the line: \"The trees blossom in the street and I look at them through the window. I am an implement, a sweeping brush, who remembers the other child. It’s like happiness.”'}, {'expert_idx': 7, 'binary_verdict': 'Yes', 'explanation': 'The ending is one of the strengths of the story—the unexpected metaphor of the \"sweeping brush\" is evocative, and works to balance the explicit naming of a big abstraction like \"happiness.\" While not necessary to conclude the plot of the story, this final paragraph reinforces the thematic concerns of the piece in a way that ultimately lends depth and leaves the reader with a pleasing balance of questions and answers.'}]}]\n"
     ]
    }
   ],
   "source": [
    "print(dataset[\"train\"][\"ttcw_narrative_ending\"][0])"
   ]
  },
  {
   "cell_type": "code",
   "execution_count": 16,
   "metadata": {},
   "outputs": [
    {
     "name": "stdout",
     "output_type": "stream",
     "text": [
      "48\n"
     ]
    }
   ],
   "source": [
    "print(len(dataset[\"train\"][\"ttcw_narrative_ending\"]))"
   ]
  },
  {
   "cell_type": "code",
   "execution_count": null,
   "metadata": {},
   "outputs": [],
   "source": []
  }
 ],
 "metadata": {
  "kernelspec": {
   "display_name": "causalLLM",
   "language": "python",
   "name": "python3"
  },
  "language_info": {
   "codemirror_mode": {
    "name": "ipython",
    "version": 3
   },
   "file_extension": ".py",
   "mimetype": "text/x-python",
   "name": "python",
   "nbconvert_exporter": "python",
   "pygments_lexer": "ipython3",
   "version": "3.9.18"
  }
 },
 "nbformat": 4,
 "nbformat_minor": 2
}
