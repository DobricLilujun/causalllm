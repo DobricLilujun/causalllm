{
 "cells": [
  {
   "cell_type": "markdown",
   "metadata": {},
   "source": [
    "# Creativity Evaluation Dataset Preparation"
   ]
  },
  {
   "cell_type": "markdown",
   "metadata": {},
   "source": [
    "Create New Model Instance For the testing"
   ]
  },
  {
   "cell_type": "code",
   "execution_count": null,
   "metadata": {},
   "outputs": [],
   "source": [
    "from transformers import AutoTokenizer, AutoModelForCausalLM\n",
    "from transformers import BitsAndBytesConfig\n",
    "import pandas as pd\n",
    "from datasets import load_from_disk\n",
    "from sklearn.metrics.pairwise import cosine_similarity\n",
    "from transformers import AutoTokenizer, AutoModel\n",
    "import torch\n",
    "import numpy as np\n",
    "import requests\n",
    "import pandas as pd\n",
    "from sklearn.metrics.pairwise import cosine_similarity\n",
    "from langchain import PromptTemplate\n",
    "from utils.evaluate import calculate_cosine_similarity\n",
    "from tqdm import tqdm\n",
    "import psutil\n",
    "import subprocess\n",
    "import signal\n",
    "import re"
   ]
  },
  {
   "cell_type": "code",
   "execution_count": null,
   "metadata": {},
   "outputs": [],
   "source": [
    "def find_uvicorn_processes():\n",
    "    uvicorn_processes = []\n",
    "    for process in psutil.process_iter([\"pid\", \"name\", \"cmdline\"]):\n",
    "        if \"uvicorn\" in process.info[\"name\"].lower() or (\n",
    "            \"uvicorn\" in process.info[\"cmdline\"] if process.info[\"cmdline\"] else False\n",
    "        ):\n",
    "            uvicorn_processes.append(process.info)\n",
    "\n",
    "    return uvicorn_processes\n",
    "\n",
    "\n",
    "def kill_process_by_pid(pid):\n",
    "    try:\n",
    "        process = psutil.Process(pid)\n",
    "        process.terminate()  # Alternatively, use process.kill() for a forceful termination\n",
    "        print(f\"Process {pid} has been terminated.\")\n",
    "    except psutil.NoSuchProcess:\n",
    "        print(f\"No process found with PID {pid}.\")\n",
    "\n",
    "\n",
    "uvicorn_processes = find_uvicorn_processes()\n",
    "\n",
    "if uvicorn_processes:\n",
    "    print(\"The follwoing is ruuning: \")\n",
    "    for process in uvicorn_processes:\n",
    "        print(\n",
    "            f\"PID: {process['pid']}, Name: {process['name']}, Command: {' '.join(process['cmdline'])}\"\n",
    "        )\n",
    "else:\n",
    "    print(\"Uvicore unfound\")"
   ]
  },
  {
   "cell_type": "code",
   "execution_count": null,
   "metadata": {},
   "outputs": [],
   "source": [
    "directory = \"causal\"\n",
    "module = \"text_generation_api_llama2_7B\"\n",
    "model = \"LLama_7B\"\n",
    "host = \"127.0.0.1\"\n",
    "port = 8899\n",
    "quantization = \"4bit\"\n",
    "python_executable = \"~/Personal_Directories/srb/causalEnv/bin/python\"\n",
    "test_num = 300"
   ]
  },
  {
   "cell_type": "code",
   "execution_count": null,
   "metadata": {},
   "outputs": [],
   "source": [
    "import subprocess\n",
    "from concurrent.futures import ThreadPoolExecutor\n",
    "\n",
    "# %nohup run_uvicorn_command(directory, your_module, host,port)\n",
    "uvicorn_command = f\"{python_executable} -m uvicorn {directory}.{module}:app --reload --host {host} --port {port}\"\n",
    "subprocess.Popen(uvicorn_command, shell=True)"
   ]
  },
  {
   "cell_type": "code",
   "execution_count": 42,
   "metadata": {},
   "outputs": [
    {
     "name": "stdout",
     "output_type": "stream",
     "text": [
      "Total of 2016 annotations\n"
     ]
    }
   ],
   "source": [
    "from collections import Counter\n",
    "import pandas as pd, json\n",
    "\n",
    "with open(\n",
    "    \"/home/lujun/local/causalllm/causal/creativity/creativity_eval/stories/ttcw_short_stories.json\",\n",
    "    \"r\",\n",
    ") as f:\n",
    "    stories = json.load(f)\n",
    "\n",
    "with open(\n",
    "    \"/home/lujun/local/causalllm/causal/creativity/creativity_eval/tests/ttcw_all_tests.json\",\n",
    "    \"r\",\n",
    ") as f:\n",
    "    tests = json.load(f)\n",
    "\n",
    "with open(\n",
    "    \"/home/lujun/local/causalllm/causal/creativity/creativity_eval/annotations/ttcw_annotations.json\",\n",
    "    \"r\",\n",
    ") as f:\n",
    "    annotations = json.load(f)\n",
    "\n",
    "# Each of the 14 tests was completed by 3 independent expert annotators.\n",
    "# 48 stories x 14 tests x 3 annotators = 2016 annotations\n",
    "print(\"Total of %d annotations\" % len(annotations))\n",
    "\n",
    "\n",
    "def full_prompt2context(full_prompt):\n",
    "    # remove the last two non-empty lines\n",
    "    lines = full_prompt.strip().split(\"\\n\")\n",
    "    kept1 = \"\\n\".join(lines[:-1]).strip().split(\"\\n\")\n",
    "    kept2 = kept1[:-1]\n",
    "    return \"\\n\".join(kept2).strip()\n",
    "\n",
    "\n",
    "for test in tests:\n",
    "    test[\"expanded_context\"] = full_prompt2context(test[\"full_prompt\"])"
   ]
  },
  {
   "cell_type": "code",
   "execution_count": 55,
   "metadata": {},
   "outputs": [
    {
     "name": "stdout",
     "output_type": "stream",
     "text": [
      "Length of Stories 48\n",
      "Length of new_yorker Stroies 12\n"
     ]
    }
   ],
   "source": [
    "import pandas as pd\n",
    "\n",
    "print(f\"Length of Stories {len(stories)}\")\n",
    "new_yorker_stories = [story for story in stories if \"GPT3.5\" in story[\"story_id\"]]\n",
    "print(f\"Length of new_yorker Stroies {len(new_yorker_stories)}\")\n",
    "df = pd.DataFrame(new_yorker_stories)\n",
    "df.to_csv(\"/home/lujun/local/causalllm/resource/creativity/story_plot.csv\", index=False)"
   ]
  },
  {
   "cell_type": "markdown",
   "metadata": {},
   "source": [
    "# Create Dataset For The Model"
   ]
  },
  {
   "cell_type": "code",
   "execution_count": 56,
   "metadata": {},
   "outputs": [],
   "source": [
    "from transformers import AutoTokenizer, AutoModelForCausalLM\n",
    "from transformers import BitsAndBytesConfig\n",
    "import pandas as pd\n",
    "from datasets import load_from_disk\n",
    "from sklearn.metrics.pairwise import cosine_similarity\n",
    "from transformers import AutoTokenizer, AutoModel\n",
    "import torch\n",
    "import numpy as np\n",
    "import requests\n",
    "import pandas as pd\n",
    "from sklearn.metrics.pairwise import cosine_similarity\n",
    "from langchain import PromptTemplate\n",
    "from utils.evaluate import calculate_cosine_similarity\n",
    "from tqdm import tqdm\n",
    "import psutil\n",
    "import subprocess\n",
    "import signal\n",
    "import re\n",
    "from utils import generate_story_by_loop"
   ]
  },
  {
   "cell_type": "code",
   "execution_count": 67,
   "metadata": {},
   "outputs": [
    {
     "data": {
      "text/html": [
       "<div>\n",
       "<style scoped>\n",
       "    .dataframe tbody tr th:only-of-type {\n",
       "        vertical-align: middle;\n",
       "    }\n",
       "\n",
       "    .dataframe tbody tr th {\n",
       "        vertical-align: top;\n",
       "    }\n",
       "\n",
       "    .dataframe thead th {\n",
       "        text-align: right;\n",
       "    }\n",
       "</style>\n",
       "<table border=\"1\" class=\"dataframe\">\n",
       "  <thead>\n",
       "    <tr style=\"text-align: right;\">\n",
       "      <th></th>\n",
       "      <th>story_idx</th>\n",
       "      <th>story_id</th>\n",
       "      <th>story_name</th>\n",
       "      <th>plot</th>\n",
       "      <th>content</th>\n",
       "      <th>word_count</th>\n",
       "    </tr>\n",
       "  </thead>\n",
       "  <tbody>\n",
       "    <tr>\n",
       "      <th>0</th>\n",
       "      <td>0</td>\n",
       "      <td>0_GPT3.5</td>\n",
       "      <td>Maintenance, Hvidovre</td>\n",
       "      <td>A woman experiences a disorienting night in a ...</td>\n",
       "      <td>The clock struck midnight as Lily stumbled thr...</td>\n",
       "      <td>1992</td>\n",
       "    </tr>\n",
       "  </tbody>\n",
       "</table>\n",
       "</div>"
      ],
      "text/plain": [
       "   story_idx  story_id             story_name  \\\n",
       "0          0  0_GPT3.5  Maintenance, Hvidovre   \n",
       "\n",
       "                                                plot  \\\n",
       "0  A woman experiences a disorienting night in a ...   \n",
       "\n",
       "                                             content  word_count  \n",
       "0  The clock struck midnight as Lily stumbled thr...        1992  "
      ]
     },
     "execution_count": 67,
     "metadata": {},
     "output_type": "execute_result"
    }
   ],
   "source": [
    "local_data_csv = \"/home/lujun/local/causalllm/resource/creativity/story_plot.csv\"\n",
    "df = pd.read_csv(local_data_csv)\n",
    "df[\"word_count\"] = df[\"content\"].apply(lambda x: len(x.split()))\n",
    "df.head(1)"
   ]
  },
  {
   "cell_type": "code",
   "execution_count": 68,
   "metadata": {},
   "outputs": [],
   "source": [
    "initial_prompt = \"\"\"Write a New Yorker-style story given the plot below. Make sure it is at least {word_count} words.\n",
    "Directly start with the story, do not say things like 'Here's the story [...]\n",
    "\n",
    "Current plot: {plot}\n",
    "\n",
    "\"\"\"\n",
    "\n",
    "recurrent_check_prompt = \"\"\"\n",
    "You wrote the story I gave you below. I requested a story with {word_count} words, but the story only has {current_word_count} words.\n",
    "Can you rewrite the story to make it longer, and closer to the {word_count} word target I gave you. \n",
    "Directly start with the story, do not say things like ‘Here’s the story [...]:\n",
    "\n",
    "Current story: {story}\n",
    "\n",
    "\"\"\"\n",
    "\n",
    "\n",
    "def generate_story(plot, word_count):\n",
    "    return generate_story_by_loop(\n",
    "        plot,\n",
    "        initial_prompt,\n",
    "        recurrent_check_prompt,\n",
    "        word_count,\n",
    "        0.8,\n",
    "        max_new_tokens=512,\n",
    "        max_length=2048,\n",
    "    )\n",
    "\n",
    "\n",
    "df[\"story\"] = df.apply(\n",
    "    lambda row: generate_story(row[\"plot\"], row[\"word_count\"]), axis=1\n",
    ")"
   ]
  },
  {
   "cell_type": "code",
   "execution_count": null,
   "metadata": {},
   "outputs": [],
   "source": []
  }
 ],
 "metadata": {
  "kernelspec": {
   "display_name": "causalLLM",
   "language": "python",
   "name": "python3"
  },
  "language_info": {
   "codemirror_mode": {
    "name": "ipython",
    "version": 3
   },
   "file_extension": ".py",
   "mimetype": "text/x-python",
   "name": "python",
   "nbconvert_exporter": "python",
   "pygments_lexer": "ipython3",
   "version": "3.9.18"
  }
 },
 "nbformat": 4,
 "nbformat_minor": 2
}
