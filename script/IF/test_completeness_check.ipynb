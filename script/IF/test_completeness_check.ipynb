{
 "cells": [
  {
   "cell_type": "code",
   "execution_count": 1,
   "metadata": {},
   "outputs": [
    {
     "name": "stdout",
     "output_type": "stream",
     "text": [
      "exp_result_Llama-2-7b-chat-hf_20240503102846.csv 的长度为: 1\n",
      "exp_result_Llama-2-70b-chat-hf_20240503111010.csv 的长度为: 3500\n",
      "exp_result_Llama-2-7b-chat-hf_20240503104835.csv 的长度为: 1\n",
      "exp_result_Mistral-7B-Instruct-v0.2_20240503200414.csv 的长度为: 10\n",
      "exp_result_Llama-2-13b-chat-hf_20240503202441.csv 的长度为: 3500\n",
      "exp_result_Llama-2-7b-chat-hf_20240503201935.csv 的长度为: 3500\n",
      "exp_result_Llama-2-13b-chat-hf_20240503200634.csv 的长度为: 10\n",
      "exp_result_Llama-2-7b-chat-hf_20240502152309.csv 的长度为: 237\n",
      "exp_result_Llama-2-70b-chat-hf_20240503110423.csv 的长度为: 5\n",
      "exp_result_Meta-Llama-3-8B-Instruct_20240503202231.csv 的长度为: 3500\n",
      "exp_result_Llama-2-7b-chat-hf_20240503200121.csv 的长度为: 10\n",
      "exp_result_Llama-2-7b-chat-hf_20240503105154.csv 的长度为: 19\n",
      "exp_result_Meta-Llama-3-8B-Instruct_20240503200421.csv 的长度为: 10\n",
      "exp_result_Llama-2-7b-chat-hf_20240503195416.csv 的长度为: 10\n",
      "IF_experiment_prompt.csv 的长度为: 3500\n",
      "exp_result_Llama-2-13b-chat-hf_20240502152835.csv 的长度为: 1807\n",
      "exp_result_Mixtral-8x22B-Instruct-v0.1_20240502155500.csv 的长度为: 77\n",
      "exp_result.csv 的长度为: 13\n",
      "exp_result_Llama-2-70b-chat-hf_20240503174746.csv 的长度为: 158\n",
      "exp_result_Mistral-7B-Instruct-v0.2_20240502152609.csv 的长度为: 4534\n",
      "exp_result_Mixtral-8x7B-Instruct-v0.1_20240502153431.csv 的长度为: 437\n",
      "exp_result_Mistral-7B-Instruct-v0.2_20240503202223.csv 的长度为: 3500\n",
      "exp_result_Llama-2-70b-chat-hf_20240502152437.csv 的长度为: 484\n"
     ]
    }
   ],
   "source": [
    "import pandas as pd\n",
    "\n",
    "# let's check the completeness of the model output\n",
    "import os\n",
    "\n",
    "folder_path = \"resource/output/IF\"\n",
    "\n",
    "for filename in os.listdir(folder_path):\n",
    "    if filename.endswith(\".csv\"):\n",
    "        file_path = os.path.join(folder_path, filename)\n",
    "        df = pd.read_csv(file_path)\n",
    "        length = len(df)\n",
    "        print(f\"{filename} 的长度为: {length}\")"
   ]
  },
  {
   "cell_type": "code",
   "execution_count": null,
   "metadata": {},
   "outputs": [],
   "source": []
  }
 ],
 "metadata": {
  "kernelspec": {
   "display_name": "causalAnalysis",
   "language": "python",
   "name": "python3"
  },
  "language_info": {
   "codemirror_mode": {
    "name": "ipython",
    "version": 3
   },
   "file_extension": ".py",
   "mimetype": "text/x-python",
   "name": "python",
   "nbconvert_exporter": "python",
   "pygments_lexer": "ipython3",
   "version": "3.9.18"
  }
 },
 "nbformat": 4,
 "nbformat_minor": 2
}
