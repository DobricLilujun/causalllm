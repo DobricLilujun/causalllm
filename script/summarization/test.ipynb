{
 "cells": [
  {
   "cell_type": "code",
   "execution_count": 2,
   "metadata": {},
   "outputs": [],
   "source": [
    "import json\n",
    "import pandas as pd\n",
    "import os"
   ]
  },
  {
   "cell_type": "markdown",
   "metadata": {},
   "source": [
    "# Data Preprocessing - Two Dataset"
   ]
  },
  {
   "cell_type": "code",
   "execution_count": 38,
   "metadata": {},
   "outputs": [],
   "source": [
    "# Data Preprocessing Benchmarking Large Language Models for News Summarization\n",
    "\n",
    "file_name = \"/Users/lujun.li/projects/causallm-github/causalllm/resource/summarization/benchmark_llm_summarization/pairwise_evaluation_results.json\"\n",
    "with open(file_name, \"r\") as file:\n",
    "    pairwise_evaluation_results = json.load(file)\n",
    "pairwise_evaluation_results_df = pd.DataFrame(pairwise_evaluation_results)\n",
    "\n",
    "file_name = \"/Users/lujun.li/projects/causallm-github/causalllm/resource/summarization/benchmark_llm_summarization/likert_evaluation_results.json\"\n",
    "with open(file_name, \"r\") as file:\n",
    "    likert_evaluation_results = json.load(file)\n",
    "\n",
    "likert_evaluation_results_df = pd.DataFrame(likert_evaluation_results)\n",
    "\n",
    "file_name = \"/Users/lujun.li/projects/causallm-github/causalllm/resource/summarization/benchmark_llm_summarization/writer_summaries.json\"\n",
    "with open(file_name, \"r\") as file:\n",
    "    writer_summaries_results = json.load(file)\n",
    "writer_summaries_results_df = pd.DataFrame(writer_summaries_results)"
   ]
  },
  {
   "cell_type": "code",
   "execution_count": 39,
   "metadata": {},
   "outputs": [],
   "source": [
    "system_message = \"You are a writer who is good at summarizing articles.\"\n",
    "USER_MESSAGE = \"Summarize the following article in 1 to 3 sentences.\"\n",
    "\n",
    "initial_prompt = \"\"\"\n",
    "Role: {system_message}\n",
    "Instruction: {USER_MESSAGE}\n",
    "Article:\n",
    "{article}\n",
    "\"\"\"\n",
    "\n",
    "mixtral_instruct_initial_prompt = \"\"\"<s>[INST]\n",
    "{system_message}\n",
    "Instruction: {USER_MESSAGE}\n",
    "Article: \n",
    "{article}\n",
    "[/INST] \n",
    "</s>\"\"\"\n",
    "\n",
    "llama2_chat_initial_prompt = \"\"\"\n",
    "<s>[INST] <<SYS>>\n",
    "{system_message}\n",
    "<</SYS>>\n",
    "Instruction: {USER_MESSAGE}\n",
    "Article:\n",
    "{article}\n",
    "[/INST]\n",
    "\"\"\"\n",
    "\n",
    "llama3_chat_initial_prompt = \"\"\"\n",
    "<|begin_of_text|><|start_header_id|>system<|end_header_id|>\n",
    "{system_message}\n",
    "<|eot_id|><|start_header_id|>user<|end_header_id|>\n",
    "Instruction: {USER_MESSAGE}\n",
    "Article:\n",
    "{article}\n",
    "<|eot_id|><|start_header_id|>assistant<|end_header_id|>\n",
    "\"\"\""
   ]
  },
  {
   "cell_type": "code",
   "execution_count": 40,
   "metadata": {},
   "outputs": [],
   "source": [
    "# columns = [\"article\", \"model\", \"summary\", \"dataset\"]\n",
    "# likert_evaluation_results_df_drop = likert_evaluation_results_df[\n",
    "#     likert_evaluation_results_df[\"model\"] == \"reference\"\n",
    "# ][columns].drop_duplicates()\n",
    "# likert_evaluation_results_df_drop.shape\n",
    "\n",
    "# likert_evaluation_results_df_drop[\"origin\"] = (\n",
    "#     \"benchmark_llm_summarization_human_included\"\n",
    "# )\n",
    "# columns = [\"article_text\", \"writer_summary\", \"text-davinci-002_summary\"]\n",
    "# pairwise_evaluation_results_df_shortened = pairwise_evaluation_results_df[columns]\n",
    "# pairwise_evaluation_results_df_shortened.rename(\n",
    "#     columns={\"article_text\": \"article\"}, inplace=True\n",
    "# )\n",
    "# pairwise_evaluation_results_df_shortened.iloc[0].article"
   ]
  },
  {
   "cell_type": "code",
   "execution_count": 41,
   "metadata": {},
   "outputs": [],
   "source": [
    "columns = [\"article\", \"summary\"]\n",
    "writer_summaries_results_df_shortened = writer_summaries_results_df[columns]"
   ]
  },
  {
   "cell_type": "code",
   "execution_count": 42,
   "metadata": {},
   "outputs": [
    {
     "name": "stderr",
     "output_type": "stream",
     "text": [
      "/var/folders/k6/w4zkqz352hzf1fs2pc1tqjf88vhly_/T/ipykernel_61413/2317706942.py:1: SettingWithCopyWarning: \n",
      "A value is trying to be set on a copy of a slice from a DataFrame\n",
      "\n",
      "See the caveats in the documentation: https://pandas.pydata.org/pandas-docs/stable/user_guide/indexing.html#returning-a-view-versus-a-copy\n",
      "  writer_summaries_results_df_shortened.rename(\n"
     ]
    }
   ],
   "source": [
    "writer_summaries_results_df_shortened.rename(\n",
    "    columns={\"summary\": \"humman_summary\"}, inplace=True\n",
    ")"
   ]
  },
  {
   "cell_type": "code",
   "execution_count": 43,
   "metadata": {},
   "outputs": [
    {
     "data": {
      "text/html": [
       "<div>\n",
       "<style scoped>\n",
       "    .dataframe tbody tr th:only-of-type {\n",
       "        vertical-align: middle;\n",
       "    }\n",
       "\n",
       "    .dataframe tbody tr th {\n",
       "        vertical-align: top;\n",
       "    }\n",
       "\n",
       "    .dataframe thead th {\n",
       "        text-align: right;\n",
       "    }\n",
       "</style>\n",
       "<table border=\"1\" class=\"dataframe\">\n",
       "  <thead>\n",
       "    <tr style=\"text-align: right;\">\n",
       "      <th></th>\n",
       "      <th>article</th>\n",
       "      <th>humman_summary</th>\n",
       "    </tr>\n",
       "  </thead>\n",
       "  <tbody>\n",
       "    <tr>\n",
       "      <th>0</th>\n",
       "      <td>Nick Scholfield is lined up to ride Spring Hee...</td>\n",
       "      <td>Nick Schofield is riding Spring Heeled in the ...</td>\n",
       "    </tr>\n",
       "    <tr>\n",
       "      <th>1</th>\n",
       "      <td>Nick Scholfield is lined up to ride Spring Hee...</td>\n",
       "      <td>Preparation is taking place for a horse ridin...</td>\n",
       "    </tr>\n",
       "    <tr>\n",
       "      <th>2</th>\n",
       "      <td>Nick Scholfield is lined up to ride Spring Hee...</td>\n",
       "      <td>Nick Scholfield will travel to Ireland and is ...</td>\n",
       "    </tr>\n",
       "    <tr>\n",
       "      <th>3</th>\n",
       "      <td>Dr Mehmet Oz's fellow faculty members at Colum...</td>\n",
       "      <td>Faculty at Columbia University have written an...</td>\n",
       "    </tr>\n",
       "    <tr>\n",
       "      <th>4</th>\n",
       "      <td>Dr Mehmet Oz's fellow faculty members at Colum...</td>\n",
       "      <td>Celebrity doctor, Mehmet Oz, is being attacked...</td>\n",
       "    </tr>\n",
       "    <tr>\n",
       "      <th>...</th>\n",
       "      <td>...</td>\n",
       "      <td>...</td>\n",
       "    </tr>\n",
       "    <tr>\n",
       "      <th>297</th>\n",
       "      <td>An inquest into an IRA massacre of 10 Protesta...</td>\n",
       "      <td>A 40-year inquest has been halted due to the l...</td>\n",
       "    </tr>\n",
       "    <tr>\n",
       "      <th>298</th>\n",
       "      <td>Rare drawings by Leonardo da Vinci, which are ...</td>\n",
       "      <td>Rare drawings by Leonardo da Vinci have gone o...</td>\n",
       "    </tr>\n",
       "    <tr>\n",
       "      <th>299</th>\n",
       "      <td>BANGKOK, Thailand (CNN) -- A Bangkok Airways p...</td>\n",
       "      <td>A Bangkok Airways plane crashed killing the pi...</td>\n",
       "    </tr>\n",
       "    <tr>\n",
       "      <th>300</th>\n",
       "      <td>Maverick Tottenham forward Emmanuel Adebayor h...</td>\n",
       "      <td>The 31-year-old Emmanual Adebayor took to Twit...</td>\n",
       "    </tr>\n",
       "    <tr>\n",
       "      <th>301</th>\n",
       "      <td>Maverick Tottenham forward Emmanuel Adebayor h...</td>\n",
       "      <td>Emmanuel Adebayor took to Twitter to announce ...</td>\n",
       "    </tr>\n",
       "  </tbody>\n",
       "</table>\n",
       "<p>302 rows × 2 columns</p>\n",
       "</div>"
      ],
      "text/plain": [
       "                                               article  \\\n",
       "0    Nick Scholfield is lined up to ride Spring Hee...   \n",
       "1    Nick Scholfield is lined up to ride Spring Hee...   \n",
       "2    Nick Scholfield is lined up to ride Spring Hee...   \n",
       "3    Dr Mehmet Oz's fellow faculty members at Colum...   \n",
       "4    Dr Mehmet Oz's fellow faculty members at Colum...   \n",
       "..                                                 ...   \n",
       "297  An inquest into an IRA massacre of 10 Protesta...   \n",
       "298  Rare drawings by Leonardo da Vinci, which are ...   \n",
       "299  BANGKOK, Thailand (CNN) -- A Bangkok Airways p...   \n",
       "300  Maverick Tottenham forward Emmanuel Adebayor h...   \n",
       "301  Maverick Tottenham forward Emmanuel Adebayor h...   \n",
       "\n",
       "                                        humman_summary  \n",
       "0    Nick Schofield is riding Spring Heeled in the ...  \n",
       "1     Preparation is taking place for a horse ridin...  \n",
       "2    Nick Scholfield will travel to Ireland and is ...  \n",
       "3    Faculty at Columbia University have written an...  \n",
       "4    Celebrity doctor, Mehmet Oz, is being attacked...  \n",
       "..                                                 ...  \n",
       "297  A 40-year inquest has been halted due to the l...  \n",
       "298  Rare drawings by Leonardo da Vinci have gone o...  \n",
       "299  A Bangkok Airways plane crashed killing the pi...  \n",
       "300  The 31-year-old Emmanual Adebayor took to Twit...  \n",
       "301  Emmanuel Adebayor took to Twitter to announce ...  \n",
       "\n",
       "[302 rows x 2 columns]"
      ]
     },
     "execution_count": 43,
     "metadata": {},
     "output_type": "execute_result"
    }
   ],
   "source": [
    "writer_summaries_results_df_shortened"
   ]
  },
  {
   "cell_type": "code",
   "execution_count": 44,
   "metadata": {},
   "outputs": [],
   "source": [
    "from langchain import PromptTemplate\n",
    "\n",
    "initial_prompt_template = PromptTemplate.from_template(initial_prompt)\n",
    "llama2_chat_initial_prompt_template = PromptTemplate.from_template(\n",
    "    llama2_chat_initial_prompt\n",
    ")\n",
    "llama3_chat_initial_prompt_template = PromptTemplate.from_template(\n",
    "    llama3_chat_initial_prompt\n",
    ")\n",
    "mixtral_instruct_initial_prompt_template = PromptTemplate.from_template(\n",
    "    mixtral_instruct_initial_prompt\n",
    ")\n",
    "\n",
    "\n",
    "def generate_initial_prompts(row):\n",
    "    article = row[\"article\"]\n",
    "    initial_prompt = initial_prompt_template.format(article=article, system_message=system_message, USER_MESSAGE=USER_MESSAGE)\n",
    "    llama2_chat_initial_prompt = llama2_chat_initial_prompt_template.format(\n",
    "        article=article, system_message=system_message, USER_MESSAGE=USER_MESSAGE\n",
    "    )\n",
    "    llama3_chat_initial_prompt = llama3_chat_initial_prompt_template.format(\n",
    "        article=article, system_message=system_message, USER_MESSAGE=USER_MESSAGE\n",
    "    )\n",
    "    mixtral_instruct_initial_prompt = mixtral_instruct_initial_prompt_template.format(\n",
    "        article=article, system_message=system_message, USER_MESSAGE=USER_MESSAGE\n",
    "    )\n",
    "    row[\"initial_prompt\"] = initial_prompt\n",
    "    row[\"llama2_chat_initial_prompt\"] = llama2_chat_initial_prompt\n",
    "    row[\"llama3_chat_initial_prompt\"] = llama3_chat_initial_prompt\n",
    "    row[\"mixtral_instruct_initial_prompt\"] = mixtral_instruct_initial_prompt\n",
    "    row[\"SYSTEM_MESSAGE\"] = system_message\n",
    "    row[\"USER_MESSAGE\"] = USER_MESSAGE\n",
    "    return row\n",
    "\n",
    "\n",
    "writer_summaries_results_df_shortened = writer_summaries_results_df_shortened.apply(\n",
    "    generate_initial_prompts, axis=1\n",
    ")"
   ]
  },
  {
   "cell_type": "code",
   "execution_count": 45,
   "metadata": {},
   "outputs": [
    {
     "data": {
      "text/plain": [
       "(302, 8)"
      ]
     },
     "execution_count": 45,
     "metadata": {},
     "output_type": "execute_result"
    }
   ],
   "source": [
    "writer_summaries_results_df_shortened.shape"
   ]
  },
  {
   "cell_type": "code",
   "execution_count": 46,
   "metadata": {},
   "outputs": [],
   "source": [
    "writer_summaries_results_df_shortened.to_csv(\"summary.csv\")"
   ]
  },
  {
   "cell_type": "code",
   "execution_count": 48,
   "metadata": {},
   "outputs": [],
   "source": [
    "import numpy as np\n",
    "\n",
    "temperatures = np.arange(0.1, 2.0, 0.3)\n",
    "temperature_df = pd.DataFrame({\"Temperature\": temperatures})\n",
    "merged_df = temperature_df.merge(writer_summaries_results_df_shortened, how=\"cross\")"
   ]
  },
  {
   "cell_type": "code",
   "execution_count": 50,
   "metadata": {},
   "outputs": [],
   "source": [
    "merged_df.to_csv(\"Summary_experiment_prompt.csv\")"
   ]
  },
  {
   "cell_type": "code",
   "execution_count": null,
   "metadata": {},
   "outputs": [],
   "source": []
  }
 ],
 "metadata": {
  "kernelspec": {
   "display_name": "causalLLM",
   "language": "python",
   "name": "python3"
  },
  "language_info": {
   "codemirror_mode": {
    "name": "ipython",
    "version": 3
   },
   "file_extension": ".py",
   "mimetype": "text/x-python",
   "name": "python",
   "nbconvert_exporter": "python",
   "pygments_lexer": "ipython3",
   "version": "3.9.18"
  }
 },
 "nbformat": 4,
 "nbformat_minor": 2
}
