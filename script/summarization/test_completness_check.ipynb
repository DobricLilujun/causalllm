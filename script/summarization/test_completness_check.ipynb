{
 "cells": [
  {
   "cell_type": "code",
   "execution_count": 2,
   "metadata": {},
   "outputs": [
    {
     "name": "stdout",
     "output_type": "stream",
     "text": [
      "exp_result_Mixtral-8x22B-Instruct-v0.1_20240508055903.csv 的长度为: 2114\n",
      "exp_result_Mixtral-8x7B-Instruct-v0.1_20240502173504.csv 的长度为: 245\n",
      "exp_result_Llama-2-13b-chat-hf_20240502172928.csv 的长度为: 796\n",
      "exp_result_Meta-Llama-3-70B-Instruct_20240502173611.csv 的长度为: 412\n",
      "exp_result_Llama-2-7b-chat-hf_20240502171057.csv 的长度为: 7\n",
      "Summary_experiment_prompt.csv 的长度为: 2114\n",
      "exp_result_Meta-Llama-3-8B-Instruct_20240502172711.csv 的长度为: 1228\n",
      "exp_result_Meta-Llama-3-70B-Instruct_20240508034733.csv 的长度为: 2114\n",
      "exp_result_Llama-2-70b-chat-hf_20240502172545.csv 的长度为: 347\n",
      "exp_result_Llama-2-7b-chat-hf_20240502172413.csv 的长度为: 97\n",
      "exp_result_Mixtral-8x7B-Instruct-v0.1_20240508041632.csv 的长度为: 2312\n",
      "exp_result_Mixtral-8x22B-Instruct-v0.1_20240502175510.csv 的长度为: 81\n",
      "exp_result_Mistral-7B-Instruct-v0.2_20240502172719.csv 的长度为: 802\n",
      "exp_result_Mixtral-8x7B-Instruct-v0.1_20240507200347.csv 的长度为: 2114\n"
     ]
    }
   ],
   "source": [
    "import pandas as pd\n",
    "\n",
    "# let's check the completeness of the model output\n",
    "import os\n",
    "\n",
    "folder_path = \"resource/output/Summary\"\n",
    "\n",
    "for filename in os.listdir(folder_path):\n",
    "    if filename.endswith(\".csv\"):\n",
    "        file_path = os.path.join(folder_path, filename)\n",
    "        df = pd.read_csv(file_path)\n",
    "        length = len(df)\n",
    "        print(f\"{filename} 的长度为: {length}\")"
   ]
  },
  {
   "cell_type": "code",
   "execution_count": 3,
   "metadata": {},
   "outputs": [],
   "source": [
    "test = pd.read_csv(\"/Users/lujun.li/projects/causallm-github/causalllm/resource/output/Summary/exp_result_Mixtral-8x22B-Instruct-v0.1_20240508055903.csv\")"
   ]
  },
  {
   "cell_type": "code",
   "execution_count": 5,
   "metadata": {},
   "outputs": [
    {
     "data": {
      "text/plain": [
       "(2312, 15)"
      ]
     },
     "execution_count": 5,
     "metadata": {},
     "output_type": "execute_result"
    }
   ],
   "source": [
    "test"
   ]
  },
  {
   "cell_type": "code",
   "execution_count": null,
   "metadata": {},
   "outputs": [],
   "source": []
  }
 ],
 "metadata": {
  "kernelspec": {
   "display_name": "causalLLM",
   "language": "python",
   "name": "python3"
  },
  "language_info": {
   "codemirror_mode": {
    "name": "ipython",
    "version": 3
   },
   "file_extension": ".py",
   "mimetype": "text/x-python",
   "name": "python",
   "nbconvert_exporter": "python",
   "pygments_lexer": "ipython3",
   "version": "3.9.18"
  }
 },
 "nbformat": 4,
 "nbformat_minor": 2
}
