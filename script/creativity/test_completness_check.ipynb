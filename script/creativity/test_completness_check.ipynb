{
 "cells": [
  {
   "cell_type": "code",
   "execution_count": 3,
   "metadata": {},
   "outputs": [
    {
     "name": "stdout",
     "output_type": "stream",
     "text": [
      "text_generation_api_mixtral_4bit_creativity_500.csv 的长度为: 90\n",
      "story_plot.csv 的长度为: 12\n",
      "evaluation_annotation_GPT.csv 的长度为: 496\n",
      "text_generation_api_llama2_70B_4bit_creativity_500.csv 的长度为: 90\n",
      "text_generation_api_llama2_7B_4bit_creativity_500.csv 的长度为: 84\n",
      "text_generation_api_llama2_13B_4bit_creativity_500.csv 的长度为: 90\n",
      "prompt_evaluation.csv 的长度为: 1176\n"
     ]
    }
   ],
   "source": [
    "import pandas as pd\n",
    "\n",
    "# let's check the completeness of the model output\n",
    "import os\n",
    "\n",
    "folder_path = \"resource/output/creativity\"\n",
    "\n",
    "for filename in os.listdir(folder_path):\n",
    "    if filename.endswith(\".csv\"):\n",
    "        file_path = os.path.join(folder_path, filename)\n",
    "        df = pd.read_csv(file_path)\n",
    "        length = len(df)\n",
    "        print(f\"{filename} 的长度为: {length}\")"
   ]
  },
  {
   "cell_type": "code",
   "execution_count": 11,
   "metadata": {},
   "outputs": [],
   "source": [
    "test =pd.read_csv(\"/Users/lujun.li/projects/causallm-github/causalllm/resource/output/creativity/text_generation_api_llama2_13B_4bit_creativity_500.csv\")"
   ]
  },
  {
   "cell_type": "code",
   "execution_count": 13,
   "metadata": {},
   "outputs": [
    {
     "data": {
      "text/plain": [
       "temperature\n",
       "0.1                   12\n",
       "0.4                   12\n",
       "0.7000000000000001    12\n",
       "1.0000000000000002    12\n",
       "1.3000000000000003    12\n",
       "1.6000000000000003    12\n",
       "1.9000000000000004    12\n",
       "temperature            6\n",
       "Name: count, dtype: int64"
      ]
     },
     "execution_count": 13,
     "metadata": {},
     "output_type": "execute_result"
    }
   ],
   "source": [
    "test.temperature.value_counts()"
   ]
  },
  {
   "cell_type": "code",
   "execution_count": 7,
   "metadata": {},
   "outputs": [
    {
     "data": {
      "text/plain": [
       "(2114, 15)"
      ]
     },
     "execution_count": 7,
     "metadata": {},
     "output_type": "execute_result"
    }
   ],
   "source": [
    "test.shape"
   ]
  },
  {
   "cell_type": "code",
   "execution_count": null,
   "metadata": {},
   "outputs": [],
   "source": []
  }
 ],
 "metadata": {
  "kernelspec": {
   "display_name": "causalLLM",
   "language": "python",
   "name": "python3"
  },
  "language_info": {
   "codemirror_mode": {
    "name": "ipython",
    "version": 3
   },
   "file_extension": ".py",
   "mimetype": "text/x-python",
   "name": "python",
   "nbconvert_exporter": "python",
   "pygments_lexer": "ipython3",
   "version": "3.9.18"
  }
 },
 "nbformat": 4,
 "nbformat_minor": 2
}
